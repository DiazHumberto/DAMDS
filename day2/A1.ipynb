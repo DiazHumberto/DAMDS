{
 "cells": [
  {
   "cell_type": "markdown",
   "id": "44e27933-1bf3-4e30-a9e3-a53c28aa607a",
   "metadata": {},
   "source": [
    "## CREATING YOUR DATA MART FROM THE FOLLOWING DATA SOURCES\n",
    "\n",
    "- Source1: Flat file source: Combine the employee data (employee.csv, employee.json, employee.csv)\n",
    "- Source2: api source: https://jsonplaceholder.typicode.com/posts\n",
    "- Source3: database source - Use the account table in your snowflake in one of the previous exercise, read it in your Jupyter and pull out only ID,name and sales_rep_Id\n",
    "- Create a New schema (ETL_ASSIGNEMENT_Q1) under your database\n",
    "- Load tables in the data mart - 3 tables in total\n"
   ]
  },
  {
   "cell_type": "markdown",
   "id": "b4fd35c4-9da2-422b-8917-1dd4c6edc263",
   "metadata": {},
   "source": [
    "### 1. Import required libraries\n"
   ]
  },
  {
   "cell_type": "code",
   "execution_count": 1,
   "id": "d7a15a0a-7ec9-4fad-ae9f-070d36d2c80d",
   "metadata": {},
   "outputs": [
    {
     "name": "stderr",
     "output_type": "stream",
     "text": [
      "/Users/eleazar/Documents/Projects/DAMDS/venv/lib/python3.13/site-packages/snowflake/connector/options.py:104: UserWarning: You have an incompatible version of 'pyarrow' installed (20.0.0), please install a version that adheres to: 'pyarrow<19.0.0; extra == \"pandas\"'\n",
      "  warn_incompatible_dep(\n"
     ]
    }
   ],
   "source": [
    "import pandas as pd\n",
    "import requests\n",
    "import json\n",
    "import xml.etree.ElementTree as ET\n",
    "import snowflake.connector\n",
    "from snowflake.connector.pandas_tools import write_pandas"
   ]
  },
  {
   "cell_type": "markdown",
   "id": "d3daf7af-c1e3-4286-b8dd-639767dcc265",
   "metadata": {},
   "source": [
    "### 2. Connect to Snowflake"
   ]
  },
  {
   "cell_type": "code",
   "execution_count": 2,
   "id": "4fbeb56c-0011-4407-ba14-9b4d413e55fe",
   "metadata": {},
   "outputs": [
    {
     "name": "stdout",
     "output_type": "stream",
     "text": [
      "Connecting to Snowflake...\n",
      "Connection established.\n",
      "\n"
     ]
    }
   ],
   "source": [
    "print(\"Connecting to Snowflake...\")\n",
    "conn = snowflake.connector.connect(\n",
    "    user='HUMBERTOD',\n",
    "    password='Danielaindarte11',\n",
    "    account='JQBVMSD-EV26583',\n",
    "    warehouse='COMPUTE_WH',\n",
    "    database='TEST'\n",
    ")\n",
    "cur = conn.cursor()\n",
    "print(\"Connection established.\\n\")"
   ]
  },
  {
   "cell_type": "markdown",
   "id": "089ca8b1-7eec-46cd-8bf7-f4b5c343384b",
   "metadata": {},
   "source": [
    "### 3. Load data from CSV, JSON, and XML"
   ]
  },
  {
   "cell_type": "code",
   "execution_count": 3,
   "id": "a04b2fd3-6236-43e7-a852-24452e1cb1ba",
   "metadata": {},
   "outputs": [
    {
     "name": "stdout",
     "output_type": "stream",
     "text": [
      "Loading data from CSV, JSON, and XML files...\n",
      "Files loaded successfully.\n",
      "\n"
     ]
    }
   ],
   "source": [
    "print(\"Loading data from CSV, JSON, and XML files...\")\n",
    "csv_data = pd.read_csv('/Users/eleazar/Documents/Projects/DAMDS/day2/Question1/employees.csv')\n",
    "with open('/Users/eleazar/Documents/Projects/DAMDS/day2/Question1/employees.json') as f:\n",
    "    json_data = json.load(f)\n",
    "json_df = pd.DataFrame(json_data)\n",
    "tree = ET.parse('/Users/eleazar/Documents/Projects/DAMDS/day2/Question1/employees.xml')\n",
    "root = tree.getroot()\n",
    "xml_data = []\n",
    "for employee in root.findall('employee'):\n",
    "    xml_data.append({\n",
    "        'id': int(employee.find('id').text),\n",
    "        'name': employee.find('name').text,\n",
    "        'department': employee.find('department').text,\n",
    "        'salary': int(employee.find('salary').text)\n",
    "    })\n",
    "xml_df = pd.DataFrame(xml_data)\n",
    "print(\"Files loaded successfully.\\n\")"
   ]
  },
  {
   "cell_type": "markdown",
   "id": "83b4c23c-b4f0-4e3b-908d-10144848b2fb",
   "metadata": {},
   "source": [
    "### 4. Combine the three data sources"
   ]
  },
  {
   "cell_type": "code",
   "execution_count": 4,
   "id": "015a268d-0875-4679-b6c7-d39ea9cda1eb",
   "metadata": {},
   "outputs": [
    {
     "name": "stdout",
     "output_type": "stream",
     "text": [
      "Combining and cleaning employee data...\n",
      "Combined employee data shape: (3, 4)\n",
      "\n"
     ]
    }
   ],
   "source": [
    "print(\"Combining and cleaning employee data...\")\n",
    "csv_data.columns = csv_data.columns.str.upper()\n",
    "json_df.columns = json_df.columns.str.upper()\n",
    "xml_df.columns = xml_df.columns.str.upper()\n",
    "employee_df = pd.concat([csv_data, json_df, xml_df], ignore_index=True)\n",
    "employee_df = employee_df.drop_duplicates(subset='ID')\n",
    "print(f\"Combined employee data shape: {employee_df.shape}\\n\")"
   ]
  },
  {
   "cell_type": "code",
   "execution_count": 5,
   "id": "4b89a450-74bd-4475-a3f7-d3cad0e49b5b",
   "metadata": {},
   "outputs": [
    {
     "data": {
      "text/html": [
       "<div>\n",
       "<style scoped>\n",
       "    .dataframe tbody tr th:only-of-type {\n",
       "        vertical-align: middle;\n",
       "    }\n",
       "\n",
       "    .dataframe tbody tr th {\n",
       "        vertical-align: top;\n",
       "    }\n",
       "\n",
       "    .dataframe thead th {\n",
       "        text-align: right;\n",
       "    }\n",
       "</style>\n",
       "<table border=\"1\" class=\"dataframe\">\n",
       "  <thead>\n",
       "    <tr style=\"text-align: right;\">\n",
       "      <th></th>\n",
       "      <th>ID</th>\n",
       "      <th>NAME</th>\n",
       "      <th>DEPARTMENT</th>\n",
       "      <th>SALARY</th>\n",
       "    </tr>\n",
       "  </thead>\n",
       "  <tbody>\n",
       "    <tr>\n",
       "      <th>0</th>\n",
       "      <td>1</td>\n",
       "      <td>Alice Johnson</td>\n",
       "      <td>Finance</td>\n",
       "      <td>50091</td>\n",
       "    </tr>\n",
       "    <tr>\n",
       "      <th>1</th>\n",
       "      <td>2</td>\n",
       "      <td>Alice Johnson</td>\n",
       "      <td>IT</td>\n",
       "      <td>57010</td>\n",
       "    </tr>\n",
       "    <tr>\n",
       "      <th>2</th>\n",
       "      <td>3</td>\n",
       "      <td>Alice Johnson</td>\n",
       "      <td>Finance</td>\n",
       "      <td>78148</td>\n",
       "    </tr>\n",
       "  </tbody>\n",
       "</table>\n",
       "</div>"
      ],
      "text/plain": [
       "   ID           NAME DEPARTMENT  SALARY\n",
       "0   1  Alice Johnson    Finance   50091\n",
       "1   2  Alice Johnson         IT   57010\n",
       "2   3  Alice Johnson    Finance   78148"
      ]
     },
     "execution_count": 5,
     "metadata": {},
     "output_type": "execute_result"
    }
   ],
   "source": [
    "employee_df.head()"
   ]
  },
  {
   "cell_type": "markdown",
   "id": "5114372b-5c92-45ca-83e7-55d45a689712",
   "metadata": {},
   "source": [
    "### 5. Load API data\n"
   ]
  },
  {
   "cell_type": "code",
   "execution_count": 6,
   "id": "7d883b91-23f5-4fb6-81a8-b09d88428357",
   "metadata": {},
   "outputs": [
    {
     "name": "stdout",
     "output_type": "stream",
     "text": [
      "Fetching data from API...\n",
      "API data loaded. Number of posts: 100\n",
      "\n"
     ]
    }
   ],
   "source": [
    "print(\"Fetching data from API...\")\n",
    "url = 'https://jsonplaceholder.typicode.com/posts'\n",
    "response = requests.get(url)\n",
    "posts_data = response.json()\n",
    "posts_df = pd.DataFrame(posts_data)[['userId', 'id', 'title', 'body']]\n",
    "posts_df.columns = ['USERID', 'ID', 'TITLE', 'BODY']\n",
    "print(f\"API data loaded. Number of posts: {len(posts_df)}\\n\")"
   ]
  },
  {
   "cell_type": "code",
   "execution_count": 7,
   "id": "fd54083b-5fc1-4656-9f14-3195e7faa855",
   "metadata": {},
   "outputs": [
    {
     "data": {
      "text/html": [
       "<div>\n",
       "<style scoped>\n",
       "    .dataframe tbody tr th:only-of-type {\n",
       "        vertical-align: middle;\n",
       "    }\n",
       "\n",
       "    .dataframe tbody tr th {\n",
       "        vertical-align: top;\n",
       "    }\n",
       "\n",
       "    .dataframe thead th {\n",
       "        text-align: right;\n",
       "    }\n",
       "</style>\n",
       "<table border=\"1\" class=\"dataframe\">\n",
       "  <thead>\n",
       "    <tr style=\"text-align: right;\">\n",
       "      <th></th>\n",
       "      <th>USERID</th>\n",
       "      <th>ID</th>\n",
       "      <th>TITLE</th>\n",
       "      <th>BODY</th>\n",
       "    </tr>\n",
       "  </thead>\n",
       "  <tbody>\n",
       "    <tr>\n",
       "      <th>0</th>\n",
       "      <td>1</td>\n",
       "      <td>1</td>\n",
       "      <td>sunt aut facere repellat provident occaecati e...</td>\n",
       "      <td>quia et suscipit\\nsuscipit recusandae consequu...</td>\n",
       "    </tr>\n",
       "    <tr>\n",
       "      <th>1</th>\n",
       "      <td>1</td>\n",
       "      <td>2</td>\n",
       "      <td>qui est esse</td>\n",
       "      <td>est rerum tempore vitae\\nsequi sint nihil repr...</td>\n",
       "    </tr>\n",
       "    <tr>\n",
       "      <th>2</th>\n",
       "      <td>1</td>\n",
       "      <td>3</td>\n",
       "      <td>ea molestias quasi exercitationem repellat qui...</td>\n",
       "      <td>et iusto sed quo iure\\nvoluptatem occaecati om...</td>\n",
       "    </tr>\n",
       "    <tr>\n",
       "      <th>3</th>\n",
       "      <td>1</td>\n",
       "      <td>4</td>\n",
       "      <td>eum et est occaecati</td>\n",
       "      <td>ullam et saepe reiciendis voluptatem adipisci\\...</td>\n",
       "    </tr>\n",
       "    <tr>\n",
       "      <th>4</th>\n",
       "      <td>1</td>\n",
       "      <td>5</td>\n",
       "      <td>nesciunt quas odio</td>\n",
       "      <td>repudiandae veniam quaerat sunt sed\\nalias aut...</td>\n",
       "    </tr>\n",
       "  </tbody>\n",
       "</table>\n",
       "</div>"
      ],
      "text/plain": [
       "   USERID  ID                                              TITLE  \\\n",
       "0       1   1  sunt aut facere repellat provident occaecati e...   \n",
       "1       1   2                                       qui est esse   \n",
       "2       1   3  ea molestias quasi exercitationem repellat qui...   \n",
       "3       1   4                               eum et est occaecati   \n",
       "4       1   5                                 nesciunt quas odio   \n",
       "\n",
       "                                                BODY  \n",
       "0  quia et suscipit\\nsuscipit recusandae consequu...  \n",
       "1  est rerum tempore vitae\\nsequi sint nihil repr...  \n",
       "2  et iusto sed quo iure\\nvoluptatem occaecati om...  \n",
       "3  ullam et saepe reiciendis voluptatem adipisci\\...  \n",
       "4  repudiandae veniam quaerat sunt sed\\nalias aut...  "
      ]
     },
     "execution_count": 7,
     "metadata": {},
     "output_type": "execute_result"
    }
   ],
   "source": [
    "posts_df.head()"
   ]
  },
  {
   "cell_type": "markdown",
   "id": "b50f717a-e943-4f82-92f6-39b357d3d068",
   "metadata": {},
   "source": [
    "### 6. Load data from Snowflake table"
   ]
  },
  {
   "cell_type": "code",
   "execution_count": 8,
   "id": "75c890e9-3ccd-4aac-95ce-9b11e55e0f8b",
   "metadata": {},
   "outputs": [
    {
     "name": "stdout",
     "output_type": "stream",
     "text": [
      "Reading account data from Snowflake table...\n",
      "Account data loaded. Number of records: 351\n",
      "\n"
     ]
    }
   ],
   "source": [
    "print(\"Reading account data from Snowflake table...\")\n",
    "cur.execute(\"SELECT ID, NAME, SALES_REP_ID FROM TEST.DAY2.ACCOUNTS\")\n",
    "rows = cur.fetchall()\n",
    "account_df = pd.DataFrame(rows, columns=['ID', 'NAME', 'SALES_REP_ID'])\n",
    "print(f\"Account data loaded. Number of records: {len(account_df)}\\n\")"
   ]
  },
  {
   "cell_type": "code",
   "execution_count": 9,
   "id": "f34094b6-1122-49c0-9431-0e346210d390",
   "metadata": {},
   "outputs": [
    {
     "data": {
      "text/html": [
       "<div>\n",
       "<style scoped>\n",
       "    .dataframe tbody tr th:only-of-type {\n",
       "        vertical-align: middle;\n",
       "    }\n",
       "\n",
       "    .dataframe tbody tr th {\n",
       "        vertical-align: top;\n",
       "    }\n",
       "\n",
       "    .dataframe thead th {\n",
       "        text-align: right;\n",
       "    }\n",
       "</style>\n",
       "<table border=\"1\" class=\"dataframe\">\n",
       "  <thead>\n",
       "    <tr style=\"text-align: right;\">\n",
       "      <th></th>\n",
       "      <th>ID</th>\n",
       "      <th>NAME</th>\n",
       "      <th>SALES_REP_ID</th>\n",
       "    </tr>\n",
       "  </thead>\n",
       "  <tbody>\n",
       "    <tr>\n",
       "      <th>0</th>\n",
       "      <td>1001</td>\n",
       "      <td>Walmart</td>\n",
       "      <td>321500</td>\n",
       "    </tr>\n",
       "    <tr>\n",
       "      <th>1</th>\n",
       "      <td>1011</td>\n",
       "      <td>Exxon Mobil</td>\n",
       "      <td>321510</td>\n",
       "    </tr>\n",
       "    <tr>\n",
       "      <th>2</th>\n",
       "      <td>1021</td>\n",
       "      <td>Apple</td>\n",
       "      <td>321520</td>\n",
       "    </tr>\n",
       "    <tr>\n",
       "      <th>3</th>\n",
       "      <td>1031</td>\n",
       "      <td>Berkshire Hathaway</td>\n",
       "      <td>321530</td>\n",
       "    </tr>\n",
       "    <tr>\n",
       "      <th>4</th>\n",
       "      <td>1041</td>\n",
       "      <td>McKesson</td>\n",
       "      <td>321540</td>\n",
       "    </tr>\n",
       "  </tbody>\n",
       "</table>\n",
       "</div>"
      ],
      "text/plain": [
       "     ID                NAME  SALES_REP_ID\n",
       "0  1001             Walmart        321500\n",
       "1  1011         Exxon Mobil        321510\n",
       "2  1021               Apple        321520\n",
       "3  1031  Berkshire Hathaway        321530\n",
       "4  1041            McKesson        321540"
      ]
     },
     "execution_count": 9,
     "metadata": {},
     "output_type": "execute_result"
    }
   ],
   "source": [
    "account_df.head()"
   ]
  },
  {
   "cell_type": "markdown",
   "id": "dcedd960-3ea0-4c0b-947f-03ca639f6b56",
   "metadata": {},
   "source": [
    "### 7. Create schema and tables in Snowflake"
   ]
  },
  {
   "cell_type": "code",
   "execution_count": 10,
   "id": "bab388d0-e610-458e-a112-97cd4a9c710e",
   "metadata": {},
   "outputs": [
    {
     "name": "stdout",
     "output_type": "stream",
     "text": [
      "Creating schema and tables in Snowflake...\n",
      "Schema and tables created.\n",
      "\n"
     ]
    }
   ],
   "source": [
    "print(\"Creating schema and tables in Snowflake...\")\n",
    "cur.execute(\"CREATE SCHEMA IF NOT EXISTS TEST.ETL_ASSIGNEMENT_Q1\")\n",
    "cur.execute(\"\"\"\n",
    "    CREATE OR REPLACE TABLE TEST.ETL_ASSIGNEMENT_Q1.EMPLOYEES (\n",
    "        ID INT, NAME STRING, DEPARTMENT STRING, SALARY INT\n",
    "    )\n",
    "\"\"\")\n",
    "cur.execute(\"\"\"\n",
    "    CREATE OR REPLACE TABLE TEST.ETL_ASSIGNEMENT_Q1.POSTS (\n",
    "        USERID INT, ID INT, TITLE STRING, BODY STRING\n",
    "    )\n",
    "\"\"\")\n",
    "cur.execute(\"\"\"\n",
    "    CREATE OR REPLACE TABLE TEST.ETL_ASSIGNEMENT_Q1.ACCOUNTS (\n",
    "        ID INT, NAME STRING, SALES_REP_ID INT\n",
    "    )\n",
    "\"\"\")\n",
    "print(\"Schema and tables created.\\n\")"
   ]
  },
  {
   "cell_type": "code",
   "execution_count": 11,
   "id": "ad48a03e-e5c4-443d-b0a0-c847626fd73c",
   "metadata": {},
   "outputs": [
    {
     "data": {
      "image/png": "[encoded data removed]",
      "text/plain": [
       "<IPython.core.display.Image object>"
      ]
     },
     "execution_count": 11,
     "metadata": {
      "image/png": {
       "height": 400,
       "width": 400
      }
     },
     "output_type": "execute_result"
    }
   ],
   "source": [
    "from IPython.display import Image\n",
    "\n",
    "Image(filename='/Users/eleazar/Desktop/Screenshots/2025-06-03 at 12.59.00.png', width=400, height=400)"
   ]
  },
  {
   "cell_type": "markdown",
   "id": "ab4bfb7d-2e9e-44ec-b97f-7e8cdc2a36e4",
   "metadata": {},
   "source": [
    "### 8. Upload data to Snowflake tables"
   ]
  },
  {
   "cell_type": "code",
   "execution_count": 12,
   "id": "49f2ab2d-69e4-4664-bf1c-ee39bb521455",
   "metadata": {},
   "outputs": [
    {
     "name": "stdout",
     "output_type": "stream",
     "text": [
      "Uploading data to Snowflake tables...\n"
     ]
    },
    {
     "name": "stderr",
     "output_type": "stream",
     "text": [
      "/var/folders/dk/g6kdw5nj5hb8tlfg5r6rfn300000gn/T/ipykernel_87728/2262015583.py:2: UserWarning: Pandas Dataframe has non-standard index of type <class 'pandas.core.indexes.base.Index'> which will not be written. Consider changing the index to pd.RangeIndex(start=0,...,step=1) or call reset_index() to keep index as column(s)\n",
      "  write_pandas(conn, employee_df, 'EMPLOYEES', schema='ETL_ASSIGNEMENT_Q1', database='TEST')\n"
     ]
    },
    {
     "name": "stdout",
     "output_type": "stream",
     "text": [
      "Data uploaded successfully.\n",
      "\n"
     ]
    }
   ],
   "source": [
    "print(\"Uploading data to Snowflake tables...\")\n",
    "write_pandas(conn, employee_df, 'EMPLOYEES', schema='ETL_ASSIGNEMENT_Q1', database='TEST')\n",
    "write_pandas(conn, posts_df, 'POSTS', schema='ETL_ASSIGNEMENT_Q1', database='TEST')\n",
    "write_pandas(conn, account_df, 'ACCOUNTS', schema='ETL_ASSIGNEMENT_Q1', database='TEST')\n",
    "print(\"Data uploaded successfully.\\n\")"
   ]
  },
  {
   "cell_type": "markdown",
   "id": "970f11e2-b226-4130-a34a-c6cda98ad631",
   "metadata": {},
   "source": [
    "See the pictures"
   ]
  },
  {
   "cell_type": "markdown",
   "id": "17820894-c1bb-4712-95ad-7e7a4271823a",
   "metadata": {},
   "source": [
    "### 9. List all tables in the schema"
   ]
  },
  {
   "cell_type": "code",
   "execution_count": 13,
   "id": "045a4b1c-7e28-4419-92a3-f7f4253c9220",
   "metadata": {},
   "outputs": [
    {
     "name": "stdout",
     "output_type": "stream",
     "text": [
      "Listing all tables in the schema ETL_ASSIGNEMENT_Q1...\n",
      "- ACCOUNTS\n",
      "- EMPLOYEES\n",
      "- POSTS\n",
      "\n",
      "\n"
     ]
    }
   ],
   "source": [
    "print(\"Listing all tables in the schema ETL_ASSIGNEMENT_Q1...\")\n",
    "cur.execute(\"SHOW TABLES IN SCHEMA TEST.ETL_ASSIGNEMENT_Q1\")\n",
    "tables = cur.fetchall()\n",
    "for table in tables:\n",
    "    print(f\"- {table[1]}\")\n",
    "\n",
    "print(\"\\n\")"
   ]
  },
  {
   "cell_type": "markdown",
   "id": "55be2c99-911a-47ab-846a-161d5723c5db",
   "metadata": {},
   "source": [
    "### 10. Display content of each table"
   ]
  },
  {
   "cell_type": "code",
   "execution_count": 14,
   "id": "2a2c1f66-6f9d-42bd-bb18-907ed7002896",
   "metadata": {},
   "outputs": [
    {
     "name": "stdout",
     "output_type": "stream",
     "text": [
      "EMPLOYEES table contents:\n",
      "[(1, 'Alice Johnson', 'Finance', 50091), (2, 'Alice Johnson', 'IT', 57010), (3, 'Alice Johnson', 'Finance', 78148)] \n",
      "\n",
      "POSTS table contents:\n",
      "[(1, 1, 'sunt aut facere repellat provident occaecati excepturi optio reprehenderit', 'quia et suscipit\\nsuscipit recusandae consequuntur expedita et cum\\nreprehenderit molestiae ut ut quas totam\\nnostrum rerum est autem sunt rem eveniet architecto'), (1, 2, 'qui est esse', 'est rerum tempore vitae\\nsequi sint nihil reprehenderit dolor beatae ea dolores neque\\nfugiat blanditiis voluptate porro vel nihil molestiae ut reiciendis\\nqui aperiam non debitis possimus qui neque nisi nulla'), (1, 3, 'ea molestias quasi exercitationem repellat qui ipsa sit aut', 'et iusto sed quo iure\\nvoluptatem occaecati omnis eligendi aut ad\\nvoluptatem doloribus vel accusantium quis pariatur\\nmolestiae porro eius odio et labore et velit aut'), (1, 4, 'eum et est occaecati', 'ullam et saepe reiciendis voluptatem adipisci\\nsit amet autem assumenda provident rerum culpa\\nquis hic commodi nesciunt rem tenetur doloremque ipsam iure\\nquis sunt voluptatem rerum illo velit'), (1, 5, 'nesciunt quas odio', 'repudiandae veniam quaerat sunt sed\\nalias aut fugiat sit autem sed est\\nvoluptatem omnis possimus esse voluptatibus quis\\nest aut tenetur dolor neque')] \n",
      "\n",
      "ACCOUNTS table contents:\n",
      "[(1001, 'Walmart', 321500), (1011, 'Exxon Mobil', 321510), (1021, 'Apple', 321520), (1031, 'Berkshire Hathaway', 321530), (1041, 'McKesson', 321540)] \n",
      "\n"
     ]
    }
   ],
   "source": [
    "print(\"EMPLOYEES table contents:\")\n",
    "cur.execute(\"SELECT * FROM TEST.ETL_ASSIGNEMENT_Q1.EMPLOYEES LIMIT 5\")\n",
    "print(cur.fetchall(), \"\\n\")\n",
    "\n",
    "print(\"POSTS table contents:\")\n",
    "cur.execute(\"SELECT * FROM TEST.ETL_ASSIGNEMENT_Q1.POSTS LIMIT 5\")\n",
    "print(cur.fetchall(), \"\\n\")\n",
    "\n",
    "print(\"ACCOUNTS table contents:\")\n",
    "cur.execute(\"SELECT * FROM TEST.ETL_ASSIGNEMENT_Q1.ACCOUNTS LIMIT 5\")\n",
    "print(cur.fetchall(), \"\\n\")"
   ]
  },
  {
   "cell_type": "code",
   "execution_count": 15,
   "id": "e2cd0fc5-fa2c-46d0-a2cc-68d67dc5daa7",
   "metadata": {},
   "outputs": [
    {
     "name": "stdout",
     "output_type": "stream",
     "text": [
      "\n",
      "Verifying Loaded Data\n",
      "Fetching EMPLOYEES table data...\n",
      "EMPLOYEES Table:\n",
      "   ID           NAME DEPARTMENT  SALARY\n",
      "0   1  Alice Johnson    Finance   50091\n",
      "1   2  Alice Johnson         IT   57010\n",
      "2   3  Alice Johnson    Finance   78148\n",
      "Fetching POSTS table data...\n",
      "POSTS Table:\n",
      "    USERID   ID                                              TITLE  \\\n",
      "0        1    1  sunt aut facere repellat provident occaecati e...   \n",
      "1        1    2                                       qui est esse   \n",
      "2        1    3  ea molestias quasi exercitationem repellat qui...   \n",
      "3        1    4                               eum et est occaecati   \n",
      "4        1    5                                 nesciunt quas odio   \n",
      "..     ...  ...                                                ...   \n",
      "95      10   96  quaerat velit veniam amet cupiditate aut numqu...   \n",
      "96      10   97         quas fugiat ut perspiciatis vero provident   \n",
      "97      10   98                        laboriosam dolor voluptates   \n",
      "98      10   99  temporibus sit alias delectus eligendi possimu...   \n",
      "99      10  100              at nam consequatur ea labore ea harum   \n",
      "\n",
      "                                                 BODY  \n",
      "0   quia et suscipit\\nsuscipit recusandae consequu...  \n",
      "1   est rerum tempore vitae\\nsequi sint nihil repr...  \n",
      "2   et iusto sed quo iure\\nvoluptatem occaecati om...  \n",
      "3   ullam et saepe reiciendis voluptatem adipisci\\...  \n",
      "4   repudiandae veniam quaerat sunt sed\\nalias aut...  \n",
      "..                                                ...  \n",
      "95  in non odio excepturi sint eum\\nlabore volupta...  \n",
      "96  eum non blanditiis soluta porro quibusdam volu...  \n",
      "97  doloremque ex facilis sit sint culpa\\nsoluta a...  \n",
      "98  quo deleniti praesentium dicta non quod\\naut e...  \n",
      "99  cupiditate quo est a modi nesciunt soluta\\nips...  \n",
      "\n",
      "[100 rows x 4 columns]\n",
      "Fetching ACCOUNTS table data...\n",
      "ACCOUNTS Table:\n",
      "       ID                NAME  SALES_REP_ID\n",
      "0    1001             Walmart        321500\n",
      "1    1011         Exxon Mobil        321510\n",
      "2    1021               Apple        321520\n",
      "3    1031  Berkshire Hathaway        321530\n",
      "4    1041            McKesson        321540\n",
      "..    ...                 ...           ...\n",
      "346  4461                 KKR        321970\n",
      "347  4471               Oneok        321960\n",
      "348  4481      Newmont Mining        321970\n",
      "349  4491                 PPL        321960\n",
      "350  4501         SpartanNash        321970\n",
      "\n",
      "[351 rows x 3 columns]\n"
     ]
    }
   ],
   "source": [
    "print(\"\\nVerifying Loaded Data\")\n",
    "try:\n",
    "    for table, cols in [('EMPLOYEES', ['ID', 'NAME', 'DEPARTMENT', 'SALARY']),\n",
    "                        ('POSTS', ['USERID', 'ID', 'TITLE', 'BODY']),\n",
    "                        ('ACCOUNTS', ['ID', 'NAME', 'SALES_REP_ID'])]:\n",
    "        print(f\"Fetching {table} table data...\")\n",
    "        cur.execute(f\"SELECT * FROM TEST.ETL_ASSIGNEMENT_Q1.{table}\")\n",
    "        print(f\"{table} Table:\")\n",
    "        print(pd.DataFrame(cur.fetchall(), columns=cols))\n",
    "except Exception as e:\n",
    "    print(f\"Error verifying data: {str(e)}\")\n"
   ]
  },
  {
   "cell_type": "markdown",
   "id": "23273081-947b-4f41-ad32-5611e2828239",
   "metadata": {},
   "source": [
    "### 11. Close connection"
   ]
  },
  {
   "cell_type": "code",
   "execution_count": 16,
   "id": "274ffd90-af9b-4777-9b8a-0602c0887fda",
   "metadata": {},
   "outputs": [
    {
     "name": "stdout",
     "output_type": "stream",
     "text": [
      "Snowflake connection closed.\n"
     ]
    }
   ],
   "source": [
    "cur.close()\n",
    "conn.close()\n",
    "print(\"Snowflake connection closed.\")"
   ]
  }
 ],
 "metadata": {
  "kernelspec": {
   "display_name": "Python 3 (ipykernel)",
   "language": "python",
   "name": "python3"
  },
  "language_info": {
   "codemirror_mode": {
    "name": "ipython",
    "version": 3
   },
   "file_extension": ".py",
   "mimetype": "text/x-python",
   "name": "python",
   "nbconvert_exporter": "python",
   "pygments_lexer": "ipython3",
   "version": "3.13.3"
  }
 },
 "nbformat": 4,
 "nbformat_minor": 5
}
