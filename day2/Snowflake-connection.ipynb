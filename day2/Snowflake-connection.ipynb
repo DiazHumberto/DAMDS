{
 "cells": [
  {
   "cell_type": "markdown",
   "id": "29975d69-3656-4b60-ba55-2d922eb72550",
   "metadata": {},
   "source": [
    "Import packages"
   ]
  },
  {
   "cell_type": "code",
   "execution_count": 10,
   "id": "098b8ef2-19ee-4099-90fa-4499fbc42c64",
   "metadata": {},
   "outputs": [],
   "source": [
    "import pandas as pd\n",
    "import requests\n",
    "import snowflake.connector as snow\n",
    "from config import user, password, account, warehouse, database\n",
    "from snowflake.connector.pandas_tools import write_pandas\n",
    "import json\n",
    "import xml.etree.ElementTree as ET"
   ]
  },
  {
   "cell_type": "markdown",
   "id": "b7d95355-497f-4076-acb7-96801321d6db",
   "metadata": {},
   "source": [
    "Connect to Snow\n",
    "flake"
   ]
  },
  {
   "cell_type": "code",
   "execution_count": 5,
   "id": "bce86caa-9ae4-4d77-ade3-6c847d9880b6",
   "metadata": {},
   "outputs": [],
   "source": [
    "# connect to snowflake\n",
    "conn = snow.connect(\n",
    "user='HUMBERTOD',\n",
    "password='Danielaindarte11',\n",
    "account='JQBVMSD-EV26583',\n",
    "warehouse='COMPUTE_WH',\n",
    "database='TEST',\n",
    ")"
   ]
  },
  {
   "cell_type": "code",
   "execution_count": 7,
   "id": "0e13dabd-3834-49c0-8bcc-58b42a6157b3",
   "metadata": {},
   "outputs": [
    {
     "name": "stdout",
     "output_type": "stream",
     "text": [
      "Successfully connected to Snowflake.\n"
     ]
    }
   ],
   "source": [
    "cur = conn.cursor()\n",
    "print(\"Successfully connected to Snowflake.\")"
   ]
  },
  {
   "cell_type": "code",
   "execution_count": 8,
   "id": "ac67ed49-f0f9-4d70-a37c-1a8ddfc36bf2",
   "metadata": {},
   "outputs": [
    {
     "name": "stdout",
     "output_type": "stream",
     "text": [
      "Schema TEST.ETL_ASSIGNEMENT_Q1 created or already exists.\n"
     ]
    }
   ],
   "source": [
    "# Step 1: Create schema ETL_ASSIGNEMENT_Q1 under TEST database\n",
    "cur.execute(\"CREATE SCHEMA IF NOT EXISTS TEST.ETL_ASSIGNEMENT_Q1\")\n",
    "print(\"Schema TEST.ETL_ASSIGNEMENT_Q1 created or already exists.\")"
   ]
  },
  {
   "cell_type": "markdown",
   "id": "6d68d8e9-e87c-4f01-a6bf-755f9ba39e7f",
   "metadata": {},
   "source": [
    "Reading the distinct file formtas"
   ]
  },
  {
   "cell_type": "code",
   "execution_count": 17,
   "id": "bed657a7-5290-49a8-ab2d-77ed4505a926",
   "metadata": {},
   "outputs": [
    {
     "data": {
      "text/html": [
       "<div>\n",
       "<style scoped>\n",
       "    .dataframe tbody tr th:only-of-type {\n",
       "        vertical-align: middle;\n",
       "    }\n",
       "\n",
       "    .dataframe tbody tr th {\n",
       "        vertical-align: top;\n",
       "    }\n",
       "\n",
       "    .dataframe thead th {\n",
       "        text-align: right;\n",
       "    }\n",
       "</style>\n",
       "<table border=\"1\" class=\"dataframe\">\n",
       "  <thead>\n",
       "    <tr style=\"text-align: right;\">\n",
       "      <th></th>\n",
       "      <th>id</th>\n",
       "      <th>name</th>\n",
       "      <th>department</th>\n",
       "      <th>salary</th>\n",
       "    </tr>\n",
       "  </thead>\n",
       "  <tbody>\n",
       "    <tr>\n",
       "      <th>0</th>\n",
       "      <td>1</td>\n",
       "      <td>Alice Johnson</td>\n",
       "      <td>Finance</td>\n",
       "      <td>50091</td>\n",
       "    </tr>\n",
       "    <tr>\n",
       "      <th>1</th>\n",
       "      <td>2</td>\n",
       "      <td>Alice Johnson</td>\n",
       "      <td>IT</td>\n",
       "      <td>57010</td>\n",
       "    </tr>\n",
       "    <tr>\n",
       "      <th>2</th>\n",
       "      <td>3</td>\n",
       "      <td>Alice Johnson</td>\n",
       "      <td>Finance</td>\n",
       "      <td>78148</td>\n",
       "    </tr>\n",
       "  </tbody>\n",
       "</table>\n",
       "</div>"
      ],
      "text/plain": [
       "   id           name department  salary\n",
       "0   1  Alice Johnson    Finance   50091\n",
       "1   2  Alice Johnson         IT   57010\n",
       "2   3  Alice Johnson    Finance   78148"
      ]
     },
     "execution_count": 17,
     "metadata": {},
     "output_type": "execute_result"
    }
   ],
   "source": [
    "# Read CSV file\n",
    "csv_data = pd.read_csv('/Users/eleazar/Documents/Projects/DAMDS/day2/Question1/employees.csv')\n",
    "csv_data.head()"
   ]
  },
  {
   "cell_type": "code",
   "execution_count": 18,
   "id": "93732894-7699-4fe9-be3a-bc90088033b9",
   "metadata": {},
   "outputs": [
    {
     "data": {
      "text/html": [
       "<div>\n",
       "<style scoped>\n",
       "    .dataframe tbody tr th:only-of-type {\n",
       "        vertical-align: middle;\n",
       "    }\n",
       "\n",
       "    .dataframe tbody tr th {\n",
       "        vertical-align: top;\n",
       "    }\n",
       "\n",
       "    .dataframe thead th {\n",
       "        text-align: right;\n",
       "    }\n",
       "</style>\n",
       "<table border=\"1\" class=\"dataframe\">\n",
       "  <thead>\n",
       "    <tr style=\"text-align: right;\">\n",
       "      <th></th>\n",
       "      <th>id</th>\n",
       "      <th>name</th>\n",
       "      <th>department</th>\n",
       "      <th>salary</th>\n",
       "    </tr>\n",
       "  </thead>\n",
       "  <tbody>\n",
       "    <tr>\n",
       "      <th>0</th>\n",
       "      <td>1</td>\n",
       "      <td>C Ronald</td>\n",
       "      <td>Finance</td>\n",
       "      <td>22091</td>\n",
       "    </tr>\n",
       "    <tr>\n",
       "      <th>1</th>\n",
       "      <td>2</td>\n",
       "      <td>trump D</td>\n",
       "      <td>IT</td>\n",
       "      <td>87010</td>\n",
       "    </tr>\n",
       "    <tr>\n",
       "      <th>2</th>\n",
       "      <td>3</td>\n",
       "      <td>Biden J</td>\n",
       "      <td>Finance</td>\n",
       "      <td>99148</td>\n",
       "    </tr>\n",
       "  </tbody>\n",
       "</table>\n",
       "</div>"
      ],
      "text/plain": [
       "   id      name department  salary\n",
       "0   1  C Ronald    Finance   22091\n",
       "1   2   trump D         IT   87010\n",
       "2   3   Biden J    Finance   99148"
      ]
     },
     "execution_count": 18,
     "metadata": {},
     "output_type": "execute_result"
    }
   ],
   "source": [
    "# Read JSON file\n",
    "with open('/Users/eleazar/Documents/Projects/DAMDS/day2/Question1/employees.json', 'r') as f:\n",
    "    json_data = json.load(f)\n",
    "json_df = pd.DataFrame(json_data)\n",
    "json_df.head()"
   ]
  },
  {
   "cell_type": "code",
   "execution_count": 19,
   "id": "f03e7a8f-19ef-4b75-b437-d9357e5cede7",
   "metadata": {},
   "outputs": [
    {
     "data": {
      "text/html": [
       "<div>\n",
       "<style scoped>\n",
       "    .dataframe tbody tr th:only-of-type {\n",
       "        vertical-align: middle;\n",
       "    }\n",
       "\n",
       "    .dataframe tbody tr th {\n",
       "        vertical-align: top;\n",
       "    }\n",
       "\n",
       "    .dataframe thead th {\n",
       "        text-align: right;\n",
       "    }\n",
       "</style>\n",
       "<table border=\"1\" class=\"dataframe\">\n",
       "  <thead>\n",
       "    <tr style=\"text-align: right;\">\n",
       "      <th></th>\n",
       "      <th>id</th>\n",
       "      <th>name</th>\n",
       "      <th>department</th>\n",
       "      <th>salary</th>\n",
       "    </tr>\n",
       "  </thead>\n",
       "  <tbody>\n",
       "    <tr>\n",
       "      <th>0</th>\n",
       "      <td>1</td>\n",
       "      <td>Alice Kent</td>\n",
       "      <td>Finance</td>\n",
       "      <td>60000</td>\n",
       "    </tr>\n",
       "    <tr>\n",
       "      <th>1</th>\n",
       "      <td>2</td>\n",
       "      <td>Victor Johnson</td>\n",
       "      <td>IT</td>\n",
       "      <td>66010</td>\n",
       "    </tr>\n",
       "    <tr>\n",
       "      <th>2</th>\n",
       "      <td>3</td>\n",
       "      <td>J Johnson</td>\n",
       "      <td>Finance</td>\n",
       "      <td>11148</td>\n",
       "    </tr>\n",
       "  </tbody>\n",
       "</table>\n",
       "</div>"
      ],
      "text/plain": [
       "   id            name department  salary\n",
       "0   1      Alice Kent    Finance   60000\n",
       "1   2  Victor Johnson         IT   66010\n",
       "2   3       J Johnson    Finance   11148"
      ]
     },
     "execution_count": 19,
     "metadata": {},
     "output_type": "execute_result"
    }
   ],
   "source": [
    "# Read XML file\n",
    "tree = ET.parse('/Users/eleazar/Documents/Projects/DAMDS/day2/Question1/employees.xml')\n",
    "root = tree.getroot()\n",
    "xml_data = []\n",
    "for employee in root.findall('employee'):\n",
    "    xml_data.append({\n",
    "        'id': int(employee.find('id').text),\n",
    "        'name': employee.find('name').text,\n",
    "        'department': employee.find('department').text,\n",
    "        'salary': int(employee.find('salary').text)\n",
    "    })\n",
    "xml_df = pd.DataFrame(xml_data)\n",
    "xml_df.head()"
   ]
  },
  {
   "cell_type": "markdown",
   "id": "341d7972-8519-44e8-90c5-00d3c478991b",
   "metadata": {},
   "source": [
    "Combining data"
   ]
  },
  {
   "cell_type": "code",
   "execution_count": 21,
   "id": "fe07e7b9-d733-472d-89c3-15ee7527efed",
   "metadata": {},
   "outputs": [
    {
     "data": {
      "text/html": [
       "<div>\n",
       "<style scoped>\n",
       "    .dataframe tbody tr th:only-of-type {\n",
       "        vertical-align: middle;\n",
       "    }\n",
       "\n",
       "    .dataframe tbody tr th {\n",
       "        vertical-align: top;\n",
       "    }\n",
       "\n",
       "    .dataframe thead th {\n",
       "        text-align: right;\n",
       "    }\n",
       "</style>\n",
       "<table border=\"1\" class=\"dataframe\">\n",
       "  <thead>\n",
       "    <tr style=\"text-align: right;\">\n",
       "      <th></th>\n",
       "      <th>id</th>\n",
       "      <th>name</th>\n",
       "      <th>department</th>\n",
       "      <th>salary</th>\n",
       "    </tr>\n",
       "  </thead>\n",
       "  <tbody>\n",
       "    <tr>\n",
       "      <th>0</th>\n",
       "      <td>1</td>\n",
       "      <td>Alice Johnson</td>\n",
       "      <td>Finance</td>\n",
       "      <td>50091</td>\n",
       "    </tr>\n",
       "    <tr>\n",
       "      <th>1</th>\n",
       "      <td>2</td>\n",
       "      <td>Alice Johnson</td>\n",
       "      <td>IT</td>\n",
       "      <td>57010</td>\n",
       "    </tr>\n",
       "    <tr>\n",
       "      <th>2</th>\n",
       "      <td>3</td>\n",
       "      <td>Alice Johnson</td>\n",
       "      <td>Finance</td>\n",
       "      <td>78148</td>\n",
       "    </tr>\n",
       "    <tr>\n",
       "      <th>3</th>\n",
       "      <td>1</td>\n",
       "      <td>C Ronald</td>\n",
       "      <td>Finance</td>\n",
       "      <td>22091</td>\n",
       "    </tr>\n",
       "    <tr>\n",
       "      <th>4</th>\n",
       "      <td>2</td>\n",
       "      <td>trump D</td>\n",
       "      <td>IT</td>\n",
       "      <td>87010</td>\n",
       "    </tr>\n",
       "  </tbody>\n",
       "</table>\n",
       "</div>"
      ],
      "text/plain": [
       "   id           name department  salary\n",
       "0   1  Alice Johnson    Finance   50091\n",
       "1   2  Alice Johnson         IT   57010\n",
       "2   3  Alice Johnson    Finance   78148\n",
       "3   1       C Ronald    Finance   22091\n",
       "4   2        trump D         IT   87010"
      ]
     },
     "execution_count": 21,
     "metadata": {},
     "output_type": "execute_result"
    }
   ],
   "source": [
    "# Combine all employee data\n",
    "employee_df = pd.concat([csv_data, json_df, xml_df], ignore_index=True)\n",
    "employee_df.head()"
   ]
  },
  {
   "cell_type": "code",
   "execution_count": 22,
   "id": "e350ffa7-f2bf-4a4d-9552-8624ab52bc07",
   "metadata": {},
   "outputs": [
    {
     "name": "stdout",
     "output_type": "stream",
     "text": [
      "Combined Employee Data:\n",
      "   id           name department  salary\n",
      "0   1  Alice Johnson    Finance   50091\n",
      "1   2  Alice Johnson         IT   57010\n",
      "2   3  Alice Johnson    Finance   78148\n"
     ]
    }
   ],
   "source": [
    "# Remove duplicates based on 'id' (keep the first occurrence)\n",
    "employee_df = employee_df.drop_duplicates(subset='id', keep='first')\n",
    "\n",
    "print(\"Combined Employee Data:\")\n",
    "print(employee_df)"
   ]
  },
  {
   "cell_type": "markdown",
   "id": "40d05bb8-8095-47ca-8d8d-82bd0b092840",
   "metadata": {},
   "source": [
    "Explanation:\n",
    "\n",
    "- **CSV:** The employees.csv file is read directly into a DataFrame using pandas.read_csv.\n",
    "- **JSON:** The employees.json file is parsed using json.load and converted to a DataFrame.\n",
    "- **XML:** The employees.xml file is parsed using xml.etree.ElementTree, extracting each <employee> node into a dictionary, then converted to a DataFrame.\n",
    "- **Combining:** The pd.concat function combines the DataFrames. Duplicates are removed based on the id column to ensure unique records, keeping the first occurrence (you can modify this logic if you want to prioritize a specific source, e.g., JSON over CSV)."
   ]
  },
  {
   "cell_type": "code",
   "execution_count": 23,
   "id": "fb4d7924-8f81-4201-8b78-e07b21f2b65f",
   "metadata": {},
   "outputs": [
    {
     "name": "stdout",
     "output_type": "stream",
     "text": [
      "API Posts Data (first 5 rows):\n",
      "   id                                              title  \\\n",
      "0   1  sunt aut facere repellat provident occaecati e...   \n",
      "1   2                                       qui est esse   \n",
      "2   3  ea molestias quasi exercitationem repellat qui...   \n",
      "3   4                               eum et est occaecati   \n",
      "4   5                                 nesciunt quas odio   \n",
      "\n",
      "                                                body  \n",
      "0  quia et suscipit\\nsuscipit recusandae consequu...  \n",
      "1  est rerum tempore vitae\\nsequi sint nihil repr...  \n",
      "2  et iusto sed quo iure\\nvoluptatem occaecati om...  \n",
      "3  ullam et saepe reiciendis voluptatem adipisci\\...  \n",
      "4  repudiandae veniam quaerat sunt sed\\nalias aut...  \n"
     ]
    }
   ],
   "source": [
    "# Fetch data from JSONPlaceholder API\n",
    "url = 'https://jsonplaceholder.typicode.com/posts'\n",
    "response = requests.get(url)\n",
    "posts_data = response.json()\n",
    "\n",
    "# Convert to DataFrame\n",
    "posts_df = pd.DataFrame(posts_data)[['id', 'title', 'body']]\n",
    "\n",
    "print(\"API Posts Data (first 5 rows):\")\n",
    "print(posts_df.head())"
   ]
  }
 ],
 "metadata": {
  "kernelspec": {
   "display_name": "Python 3 (ipykernel)",
   "language": "python",
   "name": "python3"
  },
  "language_info": {
   "codemirror_mode": {
    "name": "ipython",
    "version": 3
   },
   "file_extension": ".py",
   "mimetype": "text/x-python",
   "name": "python",
   "nbconvert_exporter": "python",
   "pygments_lexer": "ipython3",
   "version": "3.13.3"
  }
 },
 "nbformat": 4,
 "nbformat_minor": 5
}
