{
 "cells": [
  {
   "cell_type": "code",
   "execution_count": 1,
   "id": "e2a49295-b85f-4b54-acae-bbd9659c7e32",
   "metadata": {},
   "outputs": [],
   "source": []
  },
  {
   "cell_type": "code",
   "execution_count": 2,
   "id": "d11835bf-d2b1-4e98-a1e9-0b402ef40031",
   "metadata": {},
   "outputs": [],
   "source": [
    "# Extraction\n",
    "# Read customer data from CSV file\n"
   ]
  },
  {
   "cell_type": "code",
   "execution_count": 3,
   "id": "05c32713-5976-4e62-bc01-31935bed57d5",
   "metadata": {},
   "outputs": [],
   "source": [
    "# Read product inventory data from Excel file\n"
   ]
  },
  {
   "cell_type": "code",
   "execution_count": 4,
   "id": "5272dccc-9ec7-4ecf-82d8-16309e357d14",
   "metadata": {},
   "outputs": [],
   "source": []
  },
  {
   "cell_type": "code",
   "execution_count": 5,
   "id": "813e1c02-bfeb-4775-b398-b4d76befdd91",
   "metadata": {},
   "outputs": [],
   "source": [
    "# Fetch product sales data from the provided API URL\n"
   ]
  },
  {
   "cell_type": "code",
   "execution_count": 6,
   "id": "6ff17436-9844-451a-8249-db78dc22e97e",
   "metadata": {},
   "outputs": [],
   "source": [
    "meaning_files_folder= 'your path'\n",
    "\n"
   ]
  },
  {
   "cell_type": "code",
   "execution_count": 7,
   "id": "235a08cb-7452-4b64-bc24-72279a8245d7",
   "metadata": {},
   "outputs": [],
   "source": [
    "# Read meaning files from the folder\n"
   ]
  },
  {
   "cell_type": "code",
   "execution_count": 8,
   "id": "bdc21b68-5f0f-4a5d-b3f0-366d72428448",
   "metadata": {},
   "outputs": [],
   "source": [
    "# Transformation\n",
    "# Merge customer data with product sales data\n",
    "merged_data = pd.merge(customer_data, sales_data, left_on='customer_id', right_on='userId')"
   ]
  },
  {
   "cell_type": "code",
   "execution_count": 9,
   "id": "00989d33-5f44-495e-9abb-7247ac8b906a",
   "metadata": {},
   "outputs": [],
   "source": [
    "#Merge the Customer data and the data from the api --> Use customer id and userid\n",
    "#Create a schema  called ETL_ASSIGNMENT_Q2\n",
    "#create a table called \"productSales\" load the merged file\n",
    "#Create a table called \"Inventory\" and load the inventory data\n",
    "#Create a table called \"Meaning\" and load the meaning data. Include and ID field with an auto increament of 1"
   ]
  },
  {
   "cell_type": "code",
   "execution_count": 10,
   "id": "12126eaa-6e14-4d8f-b8d7-651930529724",
   "metadata": {},
   "outputs": [
    {
     "data": {
      "text/html": [
       "<div>\n",
       "<style scoped>\n",
       "    .dataframe tbody tr th:only-of-type {\n",
       "        vertical-align: middle;\n",
       "    }\n",
       "\n",
       "    .dataframe tbody tr th {\n",
       "        vertical-align: top;\n",
       "    }\n",
       "\n",
       "    .dataframe thead th {\n",
       "        text-align: right;\n",
       "    }\n",
       "</style>\n",
       "<table border=\"1\" class=\"dataframe\">\n",
       "  <thead>\n",
       "    <tr style=\"text-align: right;\">\n",
       "      <th></th>\n",
       "      <th>customer_id</th>\n",
       "      <th>name</th>\n",
       "      <th>email</th>\n",
       "      <th>phone</th>\n",
       "      <th>address</th>\n",
       "      <th>userId</th>\n",
       "      <th>id</th>\n",
       "      <th>title</th>\n",
       "      <th>body</th>\n",
       "    </tr>\n",
       "  </thead>\n",
       "  <tbody>\n",
       "    <tr>\n",
       "      <th>0</th>\n",
       "      <td>1</td>\n",
       "      <td>Customer_1</td>\n",
       "      <td>customer1@example.com</td>\n",
       "      <td>555-001-1234</td>\n",
       "      <td>Address_1, City</td>\n",
       "      <td>1</td>\n",
       "      <td>1</td>\n",
       "      <td>sunt aut facere repellat provident occaecati e...</td>\n",
       "      <td>quia et suscipit\\nsuscipit recusandae consequu...</td>\n",
       "    </tr>\n",
       "    <tr>\n",
       "      <th>1</th>\n",
       "      <td>1</td>\n",
       "      <td>Customer_1</td>\n",
       "      <td>customer1@example.com</td>\n",
       "      <td>555-001-1234</td>\n",
       "      <td>Address_1, City</td>\n",
       "      <td>1</td>\n",
       "      <td>2</td>\n",
       "      <td>qui est esse</td>\n",
       "      <td>est rerum tempore vitae\\nsequi sint nihil repr...</td>\n",
       "    </tr>\n",
       "    <tr>\n",
       "      <th>2</th>\n",
       "      <td>1</td>\n",
       "      <td>Customer_1</td>\n",
       "      <td>customer1@example.com</td>\n",
       "      <td>555-001-1234</td>\n",
       "      <td>Address_1, City</td>\n",
       "      <td>1</td>\n",
       "      <td>3</td>\n",
       "      <td>ea molestias quasi exercitationem repellat qui...</td>\n",
       "      <td>et iusto sed quo iure\\nvoluptatem occaecati om...</td>\n",
       "    </tr>\n",
       "    <tr>\n",
       "      <th>3</th>\n",
       "      <td>1</td>\n",
       "      <td>Customer_1</td>\n",
       "      <td>customer1@example.com</td>\n",
       "      <td>555-001-1234</td>\n",
       "      <td>Address_1, City</td>\n",
       "      <td>1</td>\n",
       "      <td>4</td>\n",
       "      <td>eum et est occaecati</td>\n",
       "      <td>ullam et saepe reiciendis voluptatem adipisci\\...</td>\n",
       "    </tr>\n",
       "    <tr>\n",
       "      <th>4</th>\n",
       "      <td>1</td>\n",
       "      <td>Customer_1</td>\n",
       "      <td>customer1@example.com</td>\n",
       "      <td>555-001-1234</td>\n",
       "      <td>Address_1, City</td>\n",
       "      <td>1</td>\n",
       "      <td>5</td>\n",
       "      <td>nesciunt quas odio</td>\n",
       "      <td>repudiandae veniam quaerat sunt sed\\nalias aut...</td>\n",
       "    </tr>\n",
       "  </tbody>\n",
       "</table>\n",
       "</div>"
      ],
      "text/plain": [
       "   customer_id        name                  email         phone  \\\n",
       "0            1  Customer_1  customer1@example.com  555-001-1234   \n",
       "1            1  Customer_1  customer1@example.com  555-001-1234   \n",
       "2            1  Customer_1  customer1@example.com  555-001-1234   \n",
       "3            1  Customer_1  customer1@example.com  555-001-1234   \n",
       "4            1  Customer_1  customer1@example.com  555-001-1234   \n",
       "\n",
       "           address  userId  id  \\\n",
       "0  Address_1, City       1   1   \n",
       "1  Address_1, City       1   2   \n",
       "2  Address_1, City       1   3   \n",
       "3  Address_1, City       1   4   \n",
       "4  Address_1, City       1   5   \n",
       "\n",
       "                                               title  \\\n",
       "0  sunt aut facere repellat provident occaecati e...   \n",
       "1                                       qui est esse   \n",
       "2  ea molestias quasi exercitationem repellat qui...   \n",
       "3                               eum et est occaecati   \n",
       "4                                 nesciunt quas odio   \n",
       "\n",
       "                                                body  \n",
       "0  quia et suscipit\\nsuscipit recusandae consequu...  \n",
       "1  est rerum tempore vitae\\nsequi sint nihil repr...  \n",
       "2  et iusto sed quo iure\\nvoluptatem occaecati om...  \n",
       "3  ullam et saepe reiciendis voluptatem adipisci\\...  \n",
       "4  repudiandae veniam quaerat sunt sed\\nalias aut...  "
      ]
     },
     "execution_count": 10,
     "metadata": {},
     "output_type": "execute_result"
    }
   ],
   "source": [
    "#Hint\n",
    "merged_data.head()"
   ]
  },
  {
   "cell_type": "code",
   "execution_count": null,
   "id": "9113ab26-1210-4db2-bbf6-d1f611d7eeab",
   "metadata": {},
   "outputs": [],
   "source": []
  }
 ],
 "metadata": {
  "kernelspec": {
   "display_name": "Python 3 (ipykernel)",
   "language": "python",
   "name": "python3"
  },
  "language_info": {
   "codemirror_mode": {
    "name": "ipython",
    "version": 3
   },
   "file_extension": ".py",
   "mimetype": "text/x-python",
   "name": "python",
   "nbconvert_exporter": "python",
   "pygments_lexer": "ipython3",
   "version": "3.13.2"
  }
 },
 "nbformat": 4,
 "nbformat_minor": 5
}
